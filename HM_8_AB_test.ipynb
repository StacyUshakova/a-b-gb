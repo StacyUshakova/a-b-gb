{
 "cells": [
  {
   "cell_type": "markdown",
   "id": "29dd660b",
   "metadata": {},
   "source": [
    "# Задание\n",
    "\n",
    "На сайте запущен А/В тест с целью увеличить доход. В приложенном excel файле вы найдете сырые данные по результатам эксперимента – user_id, тип выборки variant_name и доход принесенный пользователем revenue.\n",
    "Проанализируйте результаты эксперимента и напишите свои рекомендации менеджеру."
   ]
  },
  {
   "cell_type": "code",
   "execution_count": 15,
   "id": "4d5c5f9b",
   "metadata": {},
   "outputs": [],
   "source": [
    "from typing import Union\n",
    "from tqdm import tqdm\n",
    "\n",
    "import pandas as pd\n",
    "import numpy as np\n",
    "\n",
    "from scipy import stats\n",
    "from statsmodels.stats.meta_analysis import effectsize_smd\n",
    "from statsmodels.stats import proportion\n",
    "from statsmodels.stats.power import tt_ind_solve_power\n",
    "from statsmodels.stats.power import zt_ind_solve_power"
   ]
  },
  {
   "cell_type": "code",
   "execution_count": 16,
   "id": "584dd6f0",
   "metadata": {},
   "outputs": [
    {
     "name": "stderr",
     "output_type": "stream",
     "text": [
      "C:\\Users\\anast\\anaconda3\\lib\\site-packages\\openpyxl\\worksheet\\_read_only.py:79: UserWarning: Unknown extension is not supported and will be removed\n",
      "  for idx, row in parser.parse():\n"
     ]
    }
   ],
   "source": [
    "df = pd.read_excel('gb_sem_8_hm.xlsx')"
   ]
  },
  {
   "cell_type": "code",
   "execution_count": 17,
   "id": "3d6c481d",
   "metadata": {},
   "outputs": [
    {
     "data": {
      "text/html": [
       "<div>\n",
       "<style scoped>\n",
       "    .dataframe tbody tr th:only-of-type {\n",
       "        vertical-align: middle;\n",
       "    }\n",
       "\n",
       "    .dataframe tbody tr th {\n",
       "        vertical-align: top;\n",
       "    }\n",
       "\n",
       "    .dataframe thead th {\n",
       "        text-align: right;\n",
       "    }\n",
       "</style>\n",
       "<table border=\"1\" class=\"dataframe\">\n",
       "  <thead>\n",
       "    <tr style=\"text-align: right;\">\n",
       "      <th></th>\n",
       "      <th>USER_ID</th>\n",
       "      <th>VARIANT_NAME</th>\n",
       "      <th>REVENUE</th>\n",
       "    </tr>\n",
       "  </thead>\n",
       "  <tbody>\n",
       "    <tr>\n",
       "      <th>0</th>\n",
       "      <td>737</td>\n",
       "      <td>variant</td>\n",
       "      <td>0.0</td>\n",
       "    </tr>\n",
       "    <tr>\n",
       "      <th>1</th>\n",
       "      <td>2423</td>\n",
       "      <td>control</td>\n",
       "      <td>0.0</td>\n",
       "    </tr>\n",
       "    <tr>\n",
       "      <th>2</th>\n",
       "      <td>9411</td>\n",
       "      <td>control</td>\n",
       "      <td>0.0</td>\n",
       "    </tr>\n",
       "    <tr>\n",
       "      <th>3</th>\n",
       "      <td>7311</td>\n",
       "      <td>control</td>\n",
       "      <td>0.0</td>\n",
       "    </tr>\n",
       "    <tr>\n",
       "      <th>4</th>\n",
       "      <td>6174</td>\n",
       "      <td>variant</td>\n",
       "      <td>0.0</td>\n",
       "    </tr>\n",
       "  </tbody>\n",
       "</table>\n",
       "</div>"
      ],
      "text/plain": [
       "   USER_ID VARIANT_NAME  REVENUE\n",
       "0      737      variant      0.0\n",
       "1     2423      control      0.0\n",
       "2     9411      control      0.0\n",
       "3     7311      control      0.0\n",
       "4     6174      variant      0.0"
      ]
     },
     "execution_count": 17,
     "metadata": {},
     "output_type": "execute_result"
    }
   ],
   "source": [
    "df.head()"
   ]
  },
  {
   "cell_type": "code",
   "execution_count": 18,
   "id": "4b829784",
   "metadata": {},
   "outputs": [
    {
     "data": {
      "text/plain": [
       "(10000, 3)"
      ]
     },
     "execution_count": 18,
     "metadata": {},
     "output_type": "execute_result"
    }
   ],
   "source": [
    "df.shape"
   ]
  },
  {
   "cell_type": "code",
   "execution_count": 19,
   "id": "51502c03",
   "metadata": {},
   "outputs": [
    {
     "data": {
      "text/plain": [
       "6324"
      ]
     },
     "execution_count": 19,
     "metadata": {},
     "output_type": "execute_result"
    }
   ],
   "source": [
    "df.USER_ID.nunique()"
   ]
  },
  {
   "cell_type": "code",
   "execution_count": 20,
   "id": "cedecfd3",
   "metadata": {},
   "outputs": [],
   "source": [
    "df = df.groupby(['USER_ID', 'VARIANT_NAME'], as_index=False).agg({'REVENUE': 'sum'})"
   ]
  },
  {
   "cell_type": "code",
   "execution_count": 21,
   "id": "ac50a0ad",
   "metadata": {},
   "outputs": [
    {
     "data": {
      "text/plain": [
       "(7865, 3)"
      ]
     },
     "execution_count": 21,
     "metadata": {},
     "output_type": "execute_result"
    }
   ],
   "source": [
    "df.shape"
   ]
  },
  {
   "cell_type": "code",
   "execution_count": 22,
   "id": "e8096749",
   "metadata": {},
   "outputs": [
    {
     "data": {
      "text/plain": [
       "1    4783\n",
       "2    1541\n",
       "Name: VARIANT_NAME, dtype: int64"
      ]
     },
     "execution_count": 22,
     "metadata": {},
     "output_type": "execute_result"
    }
   ],
   "source": [
    "df.groupby('USER_ID', as_index=False).agg({'VARIANT_NAME': 'count'})['VARIANT_NAME'].value_counts()"
   ]
  },
  {
   "cell_type": "code",
   "execution_count": 23,
   "id": "9fe3a8c2",
   "metadata": {},
   "outputs": [],
   "source": [
    "unique_ids = \\\n",
    "(df\n",
    " .groupby('USER_ID', as_index=False)\n",
    " .agg({'VARIANT_NAME': 'count'})\n",
    " #.['VARIANT_NAME'].value_counts()\n",
    " .query('VARIANT_NAME == 1')\n",
    " .USER_ID\n",
    " .values\n",
    " )"
   ]
  },
  {
   "cell_type": "code",
   "execution_count": 24,
   "id": "f2d18c41",
   "metadata": {},
   "outputs": [],
   "source": [
    "df_new = df[df.USER_ID.isin(unique_ids)].copy(deep=True)"
   ]
  },
  {
   "cell_type": "code",
   "execution_count": 25,
   "id": "cef93759",
   "metadata": {},
   "outputs": [
    {
     "data": {
      "text/html": [
       "<div>\n",
       "<style scoped>\n",
       "    .dataframe tbody tr th:only-of-type {\n",
       "        vertical-align: middle;\n",
       "    }\n",
       "\n",
       "    .dataframe tbody tr th {\n",
       "        vertical-align: top;\n",
       "    }\n",
       "\n",
       "    .dataframe thead th {\n",
       "        text-align: right;\n",
       "    }\n",
       "</style>\n",
       "<table border=\"1\" class=\"dataframe\">\n",
       "  <thead>\n",
       "    <tr style=\"text-align: right;\">\n",
       "      <th></th>\n",
       "      <th>USER_ID</th>\n",
       "      <th>REVENUE</th>\n",
       "    </tr>\n",
       "  </thead>\n",
       "  <tbody>\n",
       "    <tr>\n",
       "      <th>count</th>\n",
       "      <td>4783.000000</td>\n",
       "      <td>4783.000000</td>\n",
       "    </tr>\n",
       "    <tr>\n",
       "      <th>mean</th>\n",
       "      <td>4994.395777</td>\n",
       "      <td>0.135873</td>\n",
       "    </tr>\n",
       "    <tr>\n",
       "      <th>std</th>\n",
       "      <td>2898.618472</td>\n",
       "      <td>3.011392</td>\n",
       "    </tr>\n",
       "    <tr>\n",
       "      <th>min</th>\n",
       "      <td>2.000000</td>\n",
       "      <td>0.000000</td>\n",
       "    </tr>\n",
       "    <tr>\n",
       "      <th>25%</th>\n",
       "      <td>2476.000000</td>\n",
       "      <td>0.000000</td>\n",
       "    </tr>\n",
       "    <tr>\n",
       "      <th>50%</th>\n",
       "      <td>4975.000000</td>\n",
       "      <td>0.000000</td>\n",
       "    </tr>\n",
       "    <tr>\n",
       "      <th>75%</th>\n",
       "      <td>7515.000000</td>\n",
       "      <td>0.000000</td>\n",
       "    </tr>\n",
       "    <tr>\n",
       "      <th>max</th>\n",
       "      <td>9998.000000</td>\n",
       "      <td>196.010000</td>\n",
       "    </tr>\n",
       "  </tbody>\n",
       "</table>\n",
       "</div>"
      ],
      "text/plain": [
       "           USER_ID      REVENUE\n",
       "count  4783.000000  4783.000000\n",
       "mean   4994.395777     0.135873\n",
       "std    2898.618472     3.011392\n",
       "min       2.000000     0.000000\n",
       "25%    2476.000000     0.000000\n",
       "50%    4975.000000     0.000000\n",
       "75%    7515.000000     0.000000\n",
       "max    9998.000000   196.010000"
      ]
     },
     "execution_count": 25,
     "metadata": {},
     "output_type": "execute_result"
    }
   ],
   "source": [
    "df_new.describe()"
   ]
  },
  {
   "cell_type": "code",
   "execution_count": 26,
   "id": "ea1f0693",
   "metadata": {},
   "outputs": [],
   "source": [
    "def continious_result(control: pd.DataFrame,\n",
    "                      treatment: pd.DataFrame,\n",
    "                      column: str,\n",
    "                      n_iters: int = 10_000) -> pd.DataFrame:\n",
    "    # Статистика по выборкам\n",
    "    size = control.loc[:, column].shape[0]\n",
    "    \n",
    "    control_mean = control.loc[:, column].mean()\n",
    "    treatment_mean = treatment.loc[:, column].mean()\n",
    "    \n",
    "    control_std = control.loc[:, column].std(ddof=1)\n",
    "    treatment_std = treatment.loc[:, column].std(ddof=1)\n",
    "    \n",
    "    # Бутсрап\n",
    "    booted_diff = []\n",
    "    for _ in tqdm(range(n_iters)):\n",
    "        control_sample = control.loc[:, column].sample(n=size, replace=True).values\n",
    "        treatment_sample = treatment.loc[:, column].sample(n=size, replace=True).values\n",
    "        booted_diff.append(np.mean(control_sample - treatment_sample))\n",
    "    \n",
    "    # Считаем статистику после бустрапа\n",
    "    md_ci, std_ci = np.mean(booted_diff), np.std(booted_diff, ddof=1)\n",
    "    left_ci, right_ci = np.percentile(booted_diff, [2.5, 97.5])\n",
    "    p_value_ci = 2 * (1 - stats.norm.cdf(np.abs(md_ci / std_ci)))\n",
    "    \n",
    "    # Считаем мощность эксперимента\n",
    "    effect_size, _ = effectsize_smd(mean1=treatment_mean, sd1=treatment_std, nobs1=size,\n",
    "                                    mean2=control_mean, sd2=control_std, nobs2=size)\n",
    "    power = tt_ind_solve_power(effect_size=effect_size,\n",
    "                               nobs1=size,\n",
    "                               alpha=.05,\n",
    "                               power=None,\n",
    "                               ratio=1)\n",
    "    # Формируем отчёт \n",
    "    result = pd.DataFrame({'effect_size': effect_size,\n",
    "                           'alpha': p_value_ci, \n",
    "                           'beta': (1-power),\n",
    "                           'CI': f'[{np.round(left_ci, 3)}, {np.round(right_ci, 3)}]',\n",
    "                           'difference': md_ci,},\n",
    "                          index=[column]) \n",
    "    return result"
   ]
  },
  {
   "cell_type": "code",
   "execution_count": 27,
   "id": "ac1eb42e",
   "metadata": {},
   "outputs": [],
   "source": [
    "control = df_new[df_new['VARIANT_NAME'] == 'control'].copy(deep=True)\n",
    "treatment = df_new[df_new['VARIANT_NAME'] == 'variant'].copy(deep=True)"
   ]
  },
  {
   "cell_type": "code",
   "execution_count": 28,
   "id": "fa71957e",
   "metadata": {},
   "outputs": [
    {
     "name": "stderr",
     "output_type": "stream",
     "text": [
      "100%|██████████| 10000/10000 [00:02<00:00, 3567.99it/s]\n"
     ]
    },
    {
     "data": {
      "text/html": [
       "<div>\n",
       "<style scoped>\n",
       "    .dataframe tbody tr th:only-of-type {\n",
       "        vertical-align: middle;\n",
       "    }\n",
       "\n",
       "    .dataframe tbody tr th {\n",
       "        vertical-align: top;\n",
       "    }\n",
       "\n",
       "    .dataframe thead th {\n",
       "        text-align: right;\n",
       "    }\n",
       "</style>\n",
       "<table border=\"1\" class=\"dataframe\">\n",
       "  <thead>\n",
       "    <tr style=\"text-align: right;\">\n",
       "      <th></th>\n",
       "      <th>effect_size</th>\n",
       "      <th>alpha</th>\n",
       "      <th>beta</th>\n",
       "      <th>CI</th>\n",
       "      <th>difference</th>\n",
       "    </tr>\n",
       "  </thead>\n",
       "  <tbody>\n",
       "    <tr>\n",
       "      <th>REVENUE</th>\n",
       "      <td>-0.040483</td>\n",
       "      <td>0.165951</td>\n",
       "      <td>0.712143</td>\n",
       "      <td>[-0.005, 0.324]</td>\n",
       "      <td>0.120485</td>\n",
       "    </tr>\n",
       "  </tbody>\n",
       "</table>\n",
       "</div>"
      ],
      "text/plain": [
       "         effect_size     alpha      beta               CI  difference\n",
       "REVENUE    -0.040483  0.165951  0.712143  [-0.005, 0.324]    0.120485"
      ]
     },
     "execution_count": 28,
     "metadata": {},
     "output_type": "execute_result"
    }
   ],
   "source": [
    "continious_result(control, treatment, column='REVENUE')"
   ]
  },
  {
   "cell_type": "code",
   "execution_count": 29,
   "id": "fc25083a",
   "metadata": {},
   "outputs": [
    {
     "data": {
      "text/html": [
       "<div>\n",
       "<style scoped>\n",
       "    .dataframe tbody tr th:only-of-type {\n",
       "        vertical-align: middle;\n",
       "    }\n",
       "\n",
       "    .dataframe tbody tr th {\n",
       "        vertical-align: top;\n",
       "    }\n",
       "\n",
       "    .dataframe thead th {\n",
       "        text-align: right;\n",
       "    }\n",
       "</style>\n",
       "<table border=\"1\" class=\"dataframe\">\n",
       "  <thead>\n",
       "    <tr style=\"text-align: right;\">\n",
       "      <th></th>\n",
       "      <th>USER_ID</th>\n",
       "      <th>REVENUE</th>\n",
       "    </tr>\n",
       "  </thead>\n",
       "  <tbody>\n",
       "    <tr>\n",
       "      <th>count</th>\n",
       "      <td>2390.000000</td>\n",
       "      <td>2390.000000</td>\n",
       "    </tr>\n",
       "    <tr>\n",
       "      <th>mean</th>\n",
       "      <td>5020.881590</td>\n",
       "      <td>0.196887</td>\n",
       "    </tr>\n",
       "    <tr>\n",
       "      <th>std</th>\n",
       "      <td>2904.850992</td>\n",
       "      <td>4.172201</td>\n",
       "    </tr>\n",
       "    <tr>\n",
       "      <th>min</th>\n",
       "      <td>2.000000</td>\n",
       "      <td>0.000000</td>\n",
       "    </tr>\n",
       "    <tr>\n",
       "      <th>25%</th>\n",
       "      <td>2517.250000</td>\n",
       "      <td>0.000000</td>\n",
       "    </tr>\n",
       "    <tr>\n",
       "      <th>50%</th>\n",
       "      <td>5012.500000</td>\n",
       "      <td>0.000000</td>\n",
       "    </tr>\n",
       "    <tr>\n",
       "      <th>75%</th>\n",
       "      <td>7616.000000</td>\n",
       "      <td>0.000000</td>\n",
       "    </tr>\n",
       "    <tr>\n",
       "      <th>max</th>\n",
       "      <td>9998.000000</td>\n",
       "      <td>196.010000</td>\n",
       "    </tr>\n",
       "  </tbody>\n",
       "</table>\n",
       "</div>"
      ],
      "text/plain": [
       "           USER_ID      REVENUE\n",
       "count  2390.000000  2390.000000\n",
       "mean   5020.881590     0.196887\n",
       "std    2904.850992     4.172201\n",
       "min       2.000000     0.000000\n",
       "25%    2517.250000     0.000000\n",
       "50%    5012.500000     0.000000\n",
       "75%    7616.000000     0.000000\n",
       "max    9998.000000   196.010000"
      ]
     },
     "execution_count": 29,
     "metadata": {},
     "output_type": "execute_result"
    }
   ],
   "source": [
    "control.describe()"
   ]
  },
  {
   "cell_type": "code",
   "execution_count": 30,
   "id": "09f787c5",
   "metadata": {},
   "outputs": [
    {
     "data": {
      "text/html": [
       "<div>\n",
       "<style scoped>\n",
       "    .dataframe tbody tr th:only-of-type {\n",
       "        vertical-align: middle;\n",
       "    }\n",
       "\n",
       "    .dataframe tbody tr th {\n",
       "        vertical-align: top;\n",
       "    }\n",
       "\n",
       "    .dataframe thead th {\n",
       "        text-align: right;\n",
       "    }\n",
       "</style>\n",
       "<table border=\"1\" class=\"dataframe\">\n",
       "  <thead>\n",
       "    <tr style=\"text-align: right;\">\n",
       "      <th></th>\n",
       "      <th>USER_ID</th>\n",
       "      <th>REVENUE</th>\n",
       "    </tr>\n",
       "  </thead>\n",
       "  <tbody>\n",
       "    <tr>\n",
       "      <th>count</th>\n",
       "      <td>2393.000000</td>\n",
       "      <td>2393.000000</td>\n",
       "    </tr>\n",
       "    <tr>\n",
       "      <th>mean</th>\n",
       "      <td>4967.943168</td>\n",
       "      <td>0.074935</td>\n",
       "    </tr>\n",
       "    <tr>\n",
       "      <th>std</th>\n",
       "      <td>2892.745368</td>\n",
       "      <td>0.858207</td>\n",
       "    </tr>\n",
       "    <tr>\n",
       "      <th>min</th>\n",
       "      <td>4.000000</td>\n",
       "      <td>0.000000</td>\n",
       "    </tr>\n",
       "    <tr>\n",
       "      <th>25%</th>\n",
       "      <td>2435.000000</td>\n",
       "      <td>0.000000</td>\n",
       "    </tr>\n",
       "    <tr>\n",
       "      <th>50%</th>\n",
       "      <td>4955.000000</td>\n",
       "      <td>0.000000</td>\n",
       "    </tr>\n",
       "    <tr>\n",
       "      <th>75%</th>\n",
       "      <td>7379.000000</td>\n",
       "      <td>0.000000</td>\n",
       "    </tr>\n",
       "    <tr>\n",
       "      <th>max</th>\n",
       "      <td>9995.000000</td>\n",
       "      <td>23.040000</td>\n",
       "    </tr>\n",
       "  </tbody>\n",
       "</table>\n",
       "</div>"
      ],
      "text/plain": [
       "           USER_ID      REVENUE\n",
       "count  2393.000000  2393.000000\n",
       "mean   4967.943168     0.074935\n",
       "std    2892.745368     0.858207\n",
       "min       4.000000     0.000000\n",
       "25%    2435.000000     0.000000\n",
       "50%    4955.000000     0.000000\n",
       "75%    7379.000000     0.000000\n",
       "max    9995.000000    23.040000"
      ]
     },
     "execution_count": 30,
     "metadata": {},
     "output_type": "execute_result"
    }
   ],
   "source": [
    "treatment.describe()"
   ]
  },
  {
   "cell_type": "markdown",
   "id": "6d543acf",
   "metadata": {},
   "source": [
    "Завышено значение alpha, завышено значение beta, доверительный интервал включает в себя 0,  можем сделать выводы что результаты не статистически значимы. Необходимо внести какие-либо изменения, чтобы получить статистически значимые различия в данных выборках."
   ]
  }
 ],
 "metadata": {
  "kernelspec": {
   "display_name": "Python 3 (ipykernel)",
   "language": "python",
   "name": "python3"
  },
  "language_info": {
   "codemirror_mode": {
    "name": "ipython",
    "version": 3
   },
   "file_extension": ".py",
   "mimetype": "text/x-python",
   "name": "python",
   "nbconvert_exporter": "python",
   "pygments_lexer": "ipython3",
   "version": "3.9.13"
  }
 },
 "nbformat": 4,
 "nbformat_minor": 5
}
